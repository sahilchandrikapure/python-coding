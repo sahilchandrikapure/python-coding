{
 "cells": [
  {
   "cell_type": "code",
   "execution_count": 4,
   "id": "4f2085f4",
   "metadata": {},
   "outputs": [
    {
     "name": "stdout",
     "output_type": "stream",
     "text": [
      "What is your good name:pravin\n",
      "Namaste pravin\n"
     ]
    }
   ],
   "source": [
    "NAME=str(input(\"What is your good name:\"))\n",
    "print(\"Namaste\",NAME)"
   ]
  },
  {
   "cell_type": "code",
   "execution_count": 3,
   "id": "560aada2",
   "metadata": {},
   "outputs": [
    {
     "name": "stdout",
     "output_type": "stream",
     "text": [
      "my favorite player is ms dhoni,and game is cricket\n"
     ]
    }
   ],
   "source": [
    "favorite_player=\"ms dhoni\"\n",
    "favorite_game=\"cricket\"\n",
    "print(\"my favorite player is {},and game is {}\".format(favorite_player,favorite_game))"
   ]
  },
  {
   "cell_type": "code",
   "execution_count": 2,
   "id": "7819f372",
   "metadata": {},
   "outputs": [
    {
     "name": "stdout",
     "output_type": "stream",
     "text": [
      "my favorite game is cricket, and game is cricket\n"
     ]
    }
   ],
   "source": [
    "favorite_player=\"ms dhoni\"\n",
    "favorite_game=\"cricket\"\n",
    "print(f\"my favorite game is {favorite_game}, and game is {favorite_game}\")"
   ]
  },
  {
   "cell_type": "code",
   "execution_count": 8,
   "id": "4d034237",
   "metadata": {},
   "outputs": [
    {
     "name": "stdout",
     "output_type": "stream",
     "text": [
      "the sum is 10,\n",
      "the product is 24,\n",
      "the substraction is 2,\n",
      "the mod is 2,\n",
      "the div is 1.5\n"
     ]
    }
   ],
   "source": [
    "num1=6\n",
    "num2=4\n",
    "#add two numbers\n",
    "sum=num1+num2\n",
    "multiplication=num1*num2\n",
    "sub=num1-num2\n",
    "mod=num1%num2\n",
    "div=num1/num2\n",
    "print(f\"the sum is {sum},\\nthe product is {multiplication},\\nthe substraction is {sub},\\nthe mod is {mod},\\nthe div is {div}\")"
   ]
  },
  {
   "cell_type": "code",
   "execution_count": null,
   "id": "4ee94915",
   "metadata": {},
   "outputs": [],
   "source": [
    "num1=5\n",
    "num2=11\n"
   ]
  }
 ],
 "metadata": {
  "kernelspec": {
   "display_name": "Python 3 (ipykernel)",
   "language": "python",
   "name": "python3"
  },
  "language_info": {
   "codemirror_mode": {
    "name": "ipython",
    "version": 3
   },
   "file_extension": ".py",
   "mimetype": "text/x-python",
   "name": "python",
   "nbconvert_exporter": "python",
   "pygments_lexer": "ipython3",
   "version": "3.9.7"
  }
 },
 "nbformat": 4,
 "nbformat_minor": 5
}
